{
 "cells": [
  {
   "cell_type": "markdown",
   "metadata": {
    "colab_type": "text",
    "id": "kkoH1QxdhCiZ"
   },
   "source": [
    "# Cross Validation"
   ]
  },
  {
   "cell_type": "code",
   "execution_count": 9,
   "metadata": {
    "colab": {},
    "colab_type": "code",
    "id": "eWchGPfa9xW9"
   },
   "outputs": [],
   "source": [
    "#importing libraries \n",
    "import pandas as pd \n",
    "import numpy as np\n",
    "import matplotlib.pyplot as plt\n",
    "%matplotlib inline"
   ]
  },
  {
   "cell_type": "markdown",
   "metadata": {
    "colab_type": "text",
    "id": "tHKgifnpjyvh"
   },
   "source": [
    "### Importing the data"
   ]
  },
  {
   "cell_type": "code",
   "execution_count": 10,
   "metadata": {
    "colab": {},
    "colab_type": "code",
    "id": "NB5xYyHg9xXA"
   },
   "outputs": [],
   "source": [
    "data = pd.read_csv('data_cleaned.csv')"
   ]
  },
  {
   "cell_type": "code",
   "execution_count": 3,
   "metadata": {
    "colab": {
     "base_uri": "https://localhost:8080/",
     "height": 253
    },
    "colab_type": "code",
    "id": "qjISR4M_9xXE",
    "outputId": "71df7520-9952-45cd-a2db-9633b53b97c5"
   },
   "outputs": [
    {
     "data": {
      "text/html": [
       "<div>\n",
       "<style scoped>\n",
       "    .dataframe tbody tr th:only-of-type {\n",
       "        vertical-align: middle;\n",
       "    }\n",
       "\n",
       "    .dataframe tbody tr th {\n",
       "        vertical-align: top;\n",
       "    }\n",
       "\n",
       "    .dataframe thead th {\n",
       "        text-align: right;\n",
       "    }\n",
       "</style>\n",
       "<table border=\"1\" class=\"dataframe\">\n",
       "  <thead>\n",
       "    <tr style=\"text-align: right;\">\n",
       "      <th></th>\n",
       "      <th>Survived</th>\n",
       "      <th>Age</th>\n",
       "      <th>Fare</th>\n",
       "      <th>Pclass_1</th>\n",
       "      <th>Pclass_2</th>\n",
       "      <th>Pclass_3</th>\n",
       "      <th>Sex_female</th>\n",
       "      <th>Sex_male</th>\n",
       "      <th>SibSp_0</th>\n",
       "      <th>SibSp_1</th>\n",
       "      <th>...</th>\n",
       "      <th>Parch_0</th>\n",
       "      <th>Parch_1</th>\n",
       "      <th>Parch_2</th>\n",
       "      <th>Parch_3</th>\n",
       "      <th>Parch_4</th>\n",
       "      <th>Parch_5</th>\n",
       "      <th>Parch_6</th>\n",
       "      <th>Embarked_C</th>\n",
       "      <th>Embarked_Q</th>\n",
       "      <th>Embarked_S</th>\n",
       "    </tr>\n",
       "  </thead>\n",
       "  <tbody>\n",
       "    <tr>\n",
       "      <th>0</th>\n",
       "      <td>0</td>\n",
       "      <td>22.0</td>\n",
       "      <td>7.2500</td>\n",
       "      <td>0</td>\n",
       "      <td>0</td>\n",
       "      <td>1</td>\n",
       "      <td>0</td>\n",
       "      <td>1</td>\n",
       "      <td>0</td>\n",
       "      <td>1</td>\n",
       "      <td>...</td>\n",
       "      <td>1</td>\n",
       "      <td>0</td>\n",
       "      <td>0</td>\n",
       "      <td>0</td>\n",
       "      <td>0</td>\n",
       "      <td>0</td>\n",
       "      <td>0</td>\n",
       "      <td>0</td>\n",
       "      <td>0</td>\n",
       "      <td>1</td>\n",
       "    </tr>\n",
       "    <tr>\n",
       "      <th>1</th>\n",
       "      <td>1</td>\n",
       "      <td>38.0</td>\n",
       "      <td>71.2833</td>\n",
       "      <td>1</td>\n",
       "      <td>0</td>\n",
       "      <td>0</td>\n",
       "      <td>1</td>\n",
       "      <td>0</td>\n",
       "      <td>0</td>\n",
       "      <td>1</td>\n",
       "      <td>...</td>\n",
       "      <td>1</td>\n",
       "      <td>0</td>\n",
       "      <td>0</td>\n",
       "      <td>0</td>\n",
       "      <td>0</td>\n",
       "      <td>0</td>\n",
       "      <td>0</td>\n",
       "      <td>1</td>\n",
       "      <td>0</td>\n",
       "      <td>0</td>\n",
       "    </tr>\n",
       "    <tr>\n",
       "      <th>2</th>\n",
       "      <td>1</td>\n",
       "      <td>26.0</td>\n",
       "      <td>7.9250</td>\n",
       "      <td>0</td>\n",
       "      <td>0</td>\n",
       "      <td>1</td>\n",
       "      <td>1</td>\n",
       "      <td>0</td>\n",
       "      <td>1</td>\n",
       "      <td>0</td>\n",
       "      <td>...</td>\n",
       "      <td>1</td>\n",
       "      <td>0</td>\n",
       "      <td>0</td>\n",
       "      <td>0</td>\n",
       "      <td>0</td>\n",
       "      <td>0</td>\n",
       "      <td>0</td>\n",
       "      <td>0</td>\n",
       "      <td>0</td>\n",
       "      <td>1</td>\n",
       "    </tr>\n",
       "    <tr>\n",
       "      <th>3</th>\n",
       "      <td>1</td>\n",
       "      <td>35.0</td>\n",
       "      <td>53.1000</td>\n",
       "      <td>1</td>\n",
       "      <td>0</td>\n",
       "      <td>0</td>\n",
       "      <td>1</td>\n",
       "      <td>0</td>\n",
       "      <td>0</td>\n",
       "      <td>1</td>\n",
       "      <td>...</td>\n",
       "      <td>1</td>\n",
       "      <td>0</td>\n",
       "      <td>0</td>\n",
       "      <td>0</td>\n",
       "      <td>0</td>\n",
       "      <td>0</td>\n",
       "      <td>0</td>\n",
       "      <td>0</td>\n",
       "      <td>0</td>\n",
       "      <td>1</td>\n",
       "    </tr>\n",
       "    <tr>\n",
       "      <th>4</th>\n",
       "      <td>0</td>\n",
       "      <td>35.0</td>\n",
       "      <td>8.0500</td>\n",
       "      <td>0</td>\n",
       "      <td>0</td>\n",
       "      <td>1</td>\n",
       "      <td>0</td>\n",
       "      <td>1</td>\n",
       "      <td>1</td>\n",
       "      <td>0</td>\n",
       "      <td>...</td>\n",
       "      <td>1</td>\n",
       "      <td>0</td>\n",
       "      <td>0</td>\n",
       "      <td>0</td>\n",
       "      <td>0</td>\n",
       "      <td>0</td>\n",
       "      <td>0</td>\n",
       "      <td>0</td>\n",
       "      <td>0</td>\n",
       "      <td>1</td>\n",
       "    </tr>\n",
       "  </tbody>\n",
       "</table>\n",
       "<p>5 rows × 25 columns</p>\n",
       "</div>"
      ],
      "text/plain": [
       "   Survived   Age     Fare  Pclass_1  Pclass_2  Pclass_3  Sex_female  \\\n",
       "0         0  22.0   7.2500         0         0         1           0   \n",
       "1         1  38.0  71.2833         1         0         0           1   \n",
       "2         1  26.0   7.9250         0         0         1           1   \n",
       "3         1  35.0  53.1000         1         0         0           1   \n",
       "4         0  35.0   8.0500         0         0         1           0   \n",
       "\n",
       "   Sex_male  SibSp_0  SibSp_1     ...      Parch_0  Parch_1  Parch_2  Parch_3  \\\n",
       "0         1        0        1     ...            1        0        0        0   \n",
       "1         0        0        1     ...            1        0        0        0   \n",
       "2         0        1        0     ...            1        0        0        0   \n",
       "3         0        0        1     ...            1        0        0        0   \n",
       "4         1        1        0     ...            1        0        0        0   \n",
       "\n",
       "   Parch_4  Parch_5  Parch_6  Embarked_C  Embarked_Q  Embarked_S  \n",
       "0        0        0        0           0           0           1  \n",
       "1        0        0        0           1           0           0  \n",
       "2        0        0        0           0           0           1  \n",
       "3        0        0        0           0           0           1  \n",
       "4        0        0        0           0           0           1  \n",
       "\n",
       "[5 rows x 25 columns]"
      ]
     },
     "execution_count": 3,
     "metadata": {},
     "output_type": "execute_result"
    }
   ],
   "source": [
    "data.head()"
   ]
  },
  {
   "cell_type": "code",
   "execution_count": 4,
   "metadata": {
    "colab": {
     "base_uri": "https://localhost:8080/",
     "height": 459
    },
    "colab_type": "code",
    "id": "1UYXqY_P6YQz",
    "outputId": "4342f4b3-a713-4f4e-b077-efc7b8a90682"
   },
   "outputs": [
    {
     "data": {
      "text/plain": [
       "Survived      0\n",
       "Age           0\n",
       "Fare          0\n",
       "Pclass_1      0\n",
       "Pclass_2      0\n",
       "Pclass_3      0\n",
       "Sex_female    0\n",
       "Sex_male      0\n",
       "SibSp_0       0\n",
       "SibSp_1       0\n",
       "SibSp_2       0\n",
       "SibSp_3       0\n",
       "SibSp_4       0\n",
       "SibSp_5       0\n",
       "SibSp_8       0\n",
       "Parch_0       0\n",
       "Parch_1       0\n",
       "Parch_2       0\n",
       "Parch_3       0\n",
       "Parch_4       0\n",
       "Parch_5       0\n",
       "Parch_6       0\n",
       "Embarked_C    0\n",
       "Embarked_Q    0\n",
       "Embarked_S    0\n",
       "dtype: int64"
      ]
     },
     "execution_count": 4,
     "metadata": {},
     "output_type": "execute_result"
    }
   ],
   "source": [
    "data.isnull().sum()"
   ]
  },
  {
   "cell_type": "markdown",
   "metadata": {
    "colab_type": "text",
    "id": "hGxgnJmxj3nv"
   },
   "source": [
    "### Segregating variables - Dependent & Independent"
   ]
  },
  {
   "cell_type": "code",
   "execution_count": 11,
   "metadata": {
    "colab": {},
    "colab_type": "code",
    "id": "rym4fnPq9xXG"
   },
   "outputs": [],
   "source": [
    "#separating independent and dependent variables\n",
    "\n",
    "x = data.drop(['Survived'], axis=1)\n",
    "y = data['Survived']"
   ]
  },
  {
   "cell_type": "markdown",
   "metadata": {
    "colab_type": "text",
    "id": "YXztAQ_Ded3q"
   },
   "source": [
    "#### Scaling the data"
   ]
  },
  {
   "cell_type": "code",
   "execution_count": 12,
   "metadata": {
    "colab": {
     "base_uri": "https://localhost:8080/",
     "height": 105
    },
    "colab_type": "code",
    "id": "mBlVReHxd2eb",
    "outputId": "cca284b8-28fc-4557-db63-493e4714ea7c"
   },
   "outputs": [
    {
     "name": "stderr",
     "output_type": "stream",
     "text": [
      "D:\\Anaconda setup\\lib\\site-packages\\sklearn\\preprocessing\\data.py:625: DataConversionWarning: Data with input dtype int64, float64 were all converted to float64 by StandardScaler.\n",
      "  return self.partial_fit(X, y)\n",
      "D:\\Anaconda setup\\lib\\site-packages\\sklearn\\base.py:462: DataConversionWarning: Data with input dtype int64, float64 were all converted to float64 by StandardScaler.\n",
      "  return self.fit(X, **fit_params).transform(X)\n"
     ]
    }
   ],
   "source": [
    "from sklearn.preprocessing import StandardScaler\n",
    "ss = StandardScaler()\n",
    "x = ss.fit_transform(x)"
   ]
  },
  {
   "cell_type": "code",
   "execution_count": null,
   "metadata": {},
   "outputs": [],
   "source": []
  },
  {
   "cell_type": "code",
   "execution_count": 13,
   "metadata": {
    "colab": {},
    "colab_type": "code",
    "id": "-PcDK1re9xXM"
   },
   "outputs": [],
   "source": [
    "from sklearn.model_selection import train_test_split\n",
    "train_x,test_x,train_y,test_y = train_test_split(x, y, random_state = 96, stratify=y)"
   ]
  },
  {
   "cell_type": "markdown",
   "metadata": {
    "colab_type": "text",
    "id": "WvsDKzjdyNWi"
   },
   "source": [
    "### Importing KNN"
   ]
  },
  {
   "cell_type": "code",
   "execution_count": 14,
   "metadata": {
    "colab": {},
    "colab_type": "code",
    "id": "yCG2gM5KyM-1"
   },
   "outputs": [],
   "source": [
    "#importing KNN classifier and metric F1score\n",
    "\n",
    "from sklearn.neighbors import KNeighborsClassifier as KNN"
   ]
  },
  {
   "cell_type": "markdown",
   "metadata": {
    "colab_type": "text",
    "id": "K9k41jblrvku"
   },
   "source": [
    "### Checking Consistency , using Cross Validation"
   ]
  },
  {
   "cell_type": "code",
   "execution_count": 15,
   "metadata": {
    "colab": {
     "base_uri": "https://localhost:8080/",
     "height": 51
    },
    "colab_type": "code",
    "id": "R6EFpPnHruzN",
    "outputId": "1aa167fe-e95a-4d33-f607-067c9f022490"
   },
   "outputs": [
    {
     "data": {
      "text/plain": [
       "array([0.75      , 0.76470588, 0.74626866, 0.7761194 , 0.65671642,\n",
       "       0.80597015, 0.86363636, 0.8030303 , 0.81818182, 0.74242424])"
      ]
     },
     "execution_count": 15,
     "metadata": {},
     "output_type": "execute_result"
    }
   ],
   "source": [
    "from sklearn.model_selection import cross_val_score\n",
    "score = cross_val_score( KNN(n_neighbors = 3), X = train_x, y = train_y, cv = 10)\n",
    "score"
   ]
  },
  {
   "cell_type": "code",
   "execution_count": 16,
   "metadata": {
    "colab": {
     "base_uri": "https://localhost:8080/",
     "height": 34
    },
    "colab_type": "code",
    "id": "8pHNt2LMvlef",
    "outputId": "5f6defbd-fc95-4f1d-9a6a-958f7101d65a"
   },
   "outputs": [
    {
     "data": {
      "text/plain": [
       "(77.27053236491341, 5.293691037358145)"
      ]
     },
     "execution_count": 16,
     "metadata": {},
     "output_type": "execute_result"
    }
   ],
   "source": [
    "# Consistency using Mean and standard deviation in percentage\n",
    "score.mean()*100, score.std()*100"
   ]
  },
  {
   "cell_type": "markdown",
   "metadata": {
    "colab_type": "text",
    "id": "vmfFqCGIwnA8"
   },
   "source": [
    "### Automating the process of cross validation for different K-Neighbors"
   ]
  },
  {
   "cell_type": "code",
   "execution_count": 42,
   "metadata": {
    "colab": {},
    "colab_type": "code",
    "id": "klE3IwVdxEQF"
   },
   "outputs": [],
   "source": [
    "def Val_score(n_neighbors):\n",
    "    '''\n",
    "  takes range of n_neighbors as input\n",
    "  returns Mean and Standard Deviation for each value of n_neighbors\n",
    "  '''\n",
    "    avg = []\n",
    "    std = []\n",
    "  \n",
    "    for i in n_neighbors:\n",
    "    \n",
    "    # 10 fold cross validation for every value of n_neighbor\n",
    "      score = cross_val_score( KNN(n_neighbors = i) , X = train_x, y = train_y, cv = 10)\n",
    "    \n",
    "    # adding mean to avg list\n",
    "      avg.append(score.mean())\n",
    "    \n",
    "    # adding standard deviation to std list\n",
    "      std.append(score.std())\n",
    "    \n",
    "    return avg, std"
   ]
  },
  {
   "cell_type": "code",
   "execution_count": 41,
   "metadata": {
    "colab": {},
    "colab_type": "code",
    "id": "tgqsgrnj1x6R"
   },
   "outputs": [
    {
     "data": {
      "text/plain": [
       "[0.7384840503365526,\n",
       " 0.7503139383297418,\n",
       " 0.772705323649134,\n",
       " 0.777138372309575,\n",
       " 0.7666227685103892,\n",
       " 0.7741532976827094,\n",
       " 0.7844700295314869,\n",
       " 0.7846476175273366,\n",
       " 0.7725942480112804,\n",
       " 0.7846010588767393,\n",
       " 0.7785417830632931,\n",
       " 0.7890128235826215,\n",
       " 0.7754895309548514,\n",
       " 0.7934019740867854,\n",
       " 0.7725729640567218,\n",
       " 0.7829315986910368,\n",
       " 0.7755134754037301,\n",
       " 0.7859605714741799,\n",
       " 0.7815275228137388,\n",
       " 0.7725483544842632,\n",
       " 0.7725264054061245,\n",
       " 0.7740635059994146,\n",
       " 0.7785198339851545,\n",
       " 0.7754669167531328,\n",
       " 0.7800349855003059,\n",
       " 0.7785191688615745,\n",
       " 0.781593370048155,\n",
       " 0.7723913853193924,\n",
       " 0.7694947721286616,\n",
       " 0.7768696623832708,\n",
       " 0.7725024609572457,\n",
       " 0.7739511001144013,\n",
       " 0.771009258520233,\n",
       " 0.772479846755527,\n",
       " 0.768046132971506,\n",
       " 0.7755101497858301,\n",
       " 0.7724578976773884,\n",
       " 0.7649719317849256,\n",
       " 0.7665096975017958,\n",
       " 0.7680680820496448,\n",
       " 0.7650603932210605,\n",
       " 0.7695167212068001,\n",
       " 0.7650830074227791,\n",
       " 0.7665768749833718,\n",
       " 0.7591128581690478,\n",
       " 0.763613749434645,\n",
       " 0.757686833213611,\n",
       " 0.7635691861547875,\n",
       " 0.7575977066538961]"
      ]
     },
     "execution_count": 41,
     "metadata": {},
     "output_type": "execute_result"
    }
   ],
   "source": [
    "n_neighbors = range(1,50)\n",
    "mean, std = Val_score(n_neighbors)\n",
    "\n",
    "std\n",
    "mean"
   ]
  },
  {
   "cell_type": "markdown",
   "metadata": {
    "colab_type": "text",
    "id": "L_izK7V03HYj"
   },
   "source": [
    "### Ploting Mean Validation Score for each K value"
   ]
  },
  {
   "cell_type": "code",
   "execution_count": 35,
   "metadata": {
    "colab": {
     "base_uri": "https://localhost:8080/",
     "height": 393
    },
    "colab_type": "code",
    "id": "225VKgly3Ga7",
    "outputId": "800ab199-d9d1-48cf-90dc-c9fc40fecd96"
   },
   "outputs": [
    {
     "data": {
      "text/plain": [
       "Text(0.5, 1.0, 'Mean Validation score')"
      ]
     },
     "execution_count": 35,
     "metadata": {},
     "output_type": "execute_result"
    },
    {
     "data": {
      "image/png": "[encoded data removed]",
      "text/plain": [
       "<Figure size 432x288 with 1 Axes>"
      ]
     },
     "metadata": {
      "needs_background": "light"
     },
     "output_type": "display_data"
    }
   ],
   "source": [
    "plt.plot(n_neighbors, mean, color = 'green', label = 'mean' )\n",
    "plt.xlabel('n_neighbors')\n",
    "plt.ylabel('Mean Score')\n",
    "plt.title('Mean Validation score')"
   ]
  },
  {
   "cell_type": "markdown",
   "metadata": {
    "colab_type": "text",
    "id": "zsoe_Do23_8-"
   },
   "source": [
    "### Ploting Standard Deaviation Validation Score for each K value"
   ]
  },
  {
   "cell_type": "code",
   "execution_count": 24,
   "metadata": {
    "colab": {
     "base_uri": "https://localhost:8080/",
     "height": 393
    },
    "colab_type": "code",
    "id": "NnIU30HV3_o3",
    "outputId": "cfe701a8-c7e5-4682-ba4f-8f377c3036f4"
   },
   "outputs": [
    {
     "data": {
      "text/plain": [
       "Text(0.5, 1.0, 'Standard Deviation of Validation score')"
      ]
     },
     "execution_count": 24,
     "metadata": {},
     "output_type": "execute_result"
    },
    {
     "data": {
      "image/png": "[encoded data removed]",
      "text/plain": [
       "<Figure size 432x288 with 1 Axes>"
      ]
     },
     "metadata": {
      "needs_background": "light"
     },
     "output_type": "display_data"
    }
   ],
   "source": [
    "plt.plot(n_neighbors[10:20], std[10:20], color = 'red', label = 'Standard deviation' )\n",
    "plt.xlabel('n_neighbors')\n",
    "plt.ylabel('magnitude')\n",
    "plt.title('Standard Deviation of Validation score')"
   ]
  },
  {
   "cell_type": "markdown",
   "metadata": {
    "colab_type": "text",
    "id": "tMw4-IzP5h7k"
   },
   "source": [
    "### Trying the optimal model over test set"
   ]
  },
  {
   "cell_type": "code",
   "execution_count": 44,
   "metadata": {
    "colab": {
     "base_uri": "https://localhost:8080/",
     "height": 34
    },
    "colab_type": "code",
    "id": "-4gCwiL9QOmk",
    "outputId": "3447825c-d6a0-4c8e-ed71-215f8efc81b4"
   },
   "outputs": [
    {
     "data": {
      "text/plain": [
       "(0.8071748878923767, 0.811377245508982)"
      ]
     },
     "execution_count": 44,
     "metadata": {},
     "output_type": "execute_result"
    }
   ],
   "source": [
    "clf = KNN(n_neighbors = 13 )\n",
    "clf.fit(train_x, train_y)\n",
    "\n",
    "score1 = clf.score(train_x, train_y)\n",
    "\n",
    "score = clf.score(test_x, test_y)\n",
    "score, score1"
   ]
  },
  {
   "cell_type": "code",
   "execution_count": null,
   "metadata": {
    "colab": {},
    "colab_type": "code",
    "collapsed": true,
    "id": "is6aH7UFE95v"
   },
   "outputs": [],
   "source": []
  }
 ],
 "metadata": {
  "colab": {
   "collapsed_sections": [],
   "name": "Cross Validation",
   "provenance": [],
   "version": "0.3.2"
  },
  "kernelspec": {
   "display_name": "Python 3",
   "language": "python",
   "name": "python3"
  },
  "language_info": {
   "codemirror_mode": {
    "name": "ipython",
    "version": 3
   },
   "file_extension": ".py",
   "mimetype": "text/x-python",
   "name": "python",
   "nbconvert_exporter": "python",
   "pygments_lexer": "ipython3",
   "version": "3.7.1"
  }
 },
 "nbformat": 4,
 "nbformat_minor": 1
}
