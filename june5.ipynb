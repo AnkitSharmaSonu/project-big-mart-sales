{
 "cells": [
  {
   "cell_type": "code",
   "execution_count": 1,
   "metadata": {},
   "outputs": [],
   "source": [
    "import pandas as pd\n",
    "import numpy as np\n",
    "import matplotlib.pyplot as plt\n",
    "%matplotlib inline\n",
    "import warnings\n",
    "warnings.filterwarnings('ignore')\n",
    "from sklearn.metrics import mean_absolute_error as mae"
   ]
  },
  {
   "cell_type": "code",
   "execution_count": 5,
   "metadata": {},
   "outputs": [
    {
     "data": {
      "text/html": [
       "<div>\n",
       "<style scoped>\n",
       "    .dataframe tbody tr th:only-of-type {\n",
       "        vertical-align: middle;\n",
       "    }\n",
       "\n",
       "    .dataframe tbody tr th {\n",
       "        vertical-align: top;\n",
       "    }\n",
       "\n",
       "    .dataframe thead th {\n",
       "        text-align: right;\n",
       "    }\n",
       "</style>\n",
       "<table border=\"1\" class=\"dataframe\">\n",
       "  <thead>\n",
       "    <tr style=\"text-align: right;\">\n",
       "      <th></th>\n",
       "      <th>Survived</th>\n",
       "      <th>Age</th>\n",
       "      <th>Fare</th>\n",
       "      <th>Pclass_1</th>\n",
       "      <th>Pclass_2</th>\n",
       "      <th>Pclass_3</th>\n",
       "      <th>Sex_female</th>\n",
       "      <th>Sex_male</th>\n",
       "      <th>SibSp_0</th>\n",
       "      <th>SibSp_1</th>\n",
       "      <th>...</th>\n",
       "      <th>Parch_0</th>\n",
       "      <th>Parch_1</th>\n",
       "      <th>Parch_2</th>\n",
       "      <th>Parch_3</th>\n",
       "      <th>Parch_4</th>\n",
       "      <th>Parch_5</th>\n",
       "      <th>Parch_6</th>\n",
       "      <th>Embarked_C</th>\n",
       "      <th>Embarked_Q</th>\n",
       "      <th>Embarked_S</th>\n",
       "    </tr>\n",
       "  </thead>\n",
       "  <tbody>\n",
       "    <tr>\n",
       "      <th>0</th>\n",
       "      <td>0</td>\n",
       "      <td>22.0</td>\n",
       "      <td>7.2500</td>\n",
       "      <td>0</td>\n",
       "      <td>0</td>\n",
       "      <td>1</td>\n",
       "      <td>0</td>\n",
       "      <td>1</td>\n",
       "      <td>0</td>\n",
       "      <td>1</td>\n",
       "      <td>...</td>\n",
       "      <td>1</td>\n",
       "      <td>0</td>\n",
       "      <td>0</td>\n",
       "      <td>0</td>\n",
       "      <td>0</td>\n",
       "      <td>0</td>\n",
       "      <td>0</td>\n",
       "      <td>0</td>\n",
       "      <td>0</td>\n",
       "      <td>1</td>\n",
       "    </tr>\n",
       "    <tr>\n",
       "      <th>1</th>\n",
       "      <td>1</td>\n",
       "      <td>38.0</td>\n",
       "      <td>71.2833</td>\n",
       "      <td>1</td>\n",
       "      <td>0</td>\n",
       "      <td>0</td>\n",
       "      <td>1</td>\n",
       "      <td>0</td>\n",
       "      <td>0</td>\n",
       "      <td>1</td>\n",
       "      <td>...</td>\n",
       "      <td>1</td>\n",
       "      <td>0</td>\n",
       "      <td>0</td>\n",
       "      <td>0</td>\n",
       "      <td>0</td>\n",
       "      <td>0</td>\n",
       "      <td>0</td>\n",
       "      <td>1</td>\n",
       "      <td>0</td>\n",
       "      <td>0</td>\n",
       "    </tr>\n",
       "    <tr>\n",
       "      <th>2</th>\n",
       "      <td>1</td>\n",
       "      <td>26.0</td>\n",
       "      <td>7.9250</td>\n",
       "      <td>0</td>\n",
       "      <td>0</td>\n",
       "      <td>1</td>\n",
       "      <td>1</td>\n",
       "      <td>0</td>\n",
       "      <td>1</td>\n",
       "      <td>0</td>\n",
       "      <td>...</td>\n",
       "      <td>1</td>\n",
       "      <td>0</td>\n",
       "      <td>0</td>\n",
       "      <td>0</td>\n",
       "      <td>0</td>\n",
       "      <td>0</td>\n",
       "      <td>0</td>\n",
       "      <td>0</td>\n",
       "      <td>0</td>\n",
       "      <td>1</td>\n",
       "    </tr>\n",
       "    <tr>\n",
       "      <th>3</th>\n",
       "      <td>1</td>\n",
       "      <td>35.0</td>\n",
       "      <td>53.1000</td>\n",
       "      <td>1</td>\n",
       "      <td>0</td>\n",
       "      <td>0</td>\n",
       "      <td>1</td>\n",
       "      <td>0</td>\n",
       "      <td>0</td>\n",
       "      <td>1</td>\n",
       "      <td>...</td>\n",
       "      <td>1</td>\n",
       "      <td>0</td>\n",
       "      <td>0</td>\n",
       "      <td>0</td>\n",
       "      <td>0</td>\n",
       "      <td>0</td>\n",
       "      <td>0</td>\n",
       "      <td>0</td>\n",
       "      <td>0</td>\n",
       "      <td>1</td>\n",
       "    </tr>\n",
       "    <tr>\n",
       "      <th>4</th>\n",
       "      <td>0</td>\n",
       "      <td>35.0</td>\n",
       "      <td>8.0500</td>\n",
       "      <td>0</td>\n",
       "      <td>0</td>\n",
       "      <td>1</td>\n",
       "      <td>0</td>\n",
       "      <td>1</td>\n",
       "      <td>1</td>\n",
       "      <td>0</td>\n",
       "      <td>...</td>\n",
       "      <td>1</td>\n",
       "      <td>0</td>\n",
       "      <td>0</td>\n",
       "      <td>0</td>\n",
       "      <td>0</td>\n",
       "      <td>0</td>\n",
       "      <td>0</td>\n",
       "      <td>0</td>\n",
       "      <td>0</td>\n",
       "      <td>1</td>\n",
       "    </tr>\n",
       "  </tbody>\n",
       "</table>\n",
       "<p>5 rows × 25 columns</p>\n",
       "</div>"
      ],
      "text/plain": [
       "   Survived   Age     Fare  Pclass_1  Pclass_2  Pclass_3  Sex_female  \\\n",
       "0         0  22.0   7.2500         0         0         1           0   \n",
       "1         1  38.0  71.2833         1         0         0           1   \n",
       "2         1  26.0   7.9250         0         0         1           1   \n",
       "3         1  35.0  53.1000         1         0         0           1   \n",
       "4         0  35.0   8.0500         0         0         1           0   \n",
       "\n",
       "   Sex_male  SibSp_0  SibSp_1  ...  Parch_0  Parch_1  Parch_2  Parch_3  \\\n",
       "0         1        0        1  ...        1        0        0        0   \n",
       "1         0        0        1  ...        1        0        0        0   \n",
       "2         0        1        0  ...        1        0        0        0   \n",
       "3         0        0        1  ...        1        0        0        0   \n",
       "4         1        1        0  ...        1        0        0        0   \n",
       "\n",
       "   Parch_4  Parch_5  Parch_6  Embarked_C  Embarked_Q  Embarked_S  \n",
       "0        0        0        0           0           0           1  \n",
       "1        0        0        0           1           0           0  \n",
       "2        0        0        0           0           0           1  \n",
       "3        0        0        0           0           0           1  \n",
       "4        0        0        0           0           0           1  \n",
       "\n",
       "[5 rows x 25 columns]"
      ]
     },
     "execution_count": 5,
     "metadata": {},
     "output_type": "execute_result"
    }
   ],
   "source": [
    "df=pd.read_csv('data_cleaned.csv')\n",
    "df.head()"
   ]
  },
  {
   "cell_type": "code",
   "execution_count": 12,
   "metadata": {},
   "outputs": [],
   "source": [
    "x=df.drop(['Survived'],axis=1)\n",
    "y=df['Survived']"
   ]
  },
  {
   "cell_type": "code",
   "execution_count": null,
   "metadata": {},
   "outputs": [],
   "source": []
  },
  {
   "cell_type": "code",
   "execution_count": 23,
   "metadata": {},
   "outputs": [],
   "source": [
    "from sklearn.preprocessing import MinMaxScaler \n",
    "scaled=MinMaxScaler()\n",
    "scaled_x=scaled.fit_transform(x)\n",
    "x=pd.DataFrame(scaled_x,columns=x.columns)"
   ]
  },
  {
   "cell_type": "code",
   "execution_count": 77,
   "metadata": {},
   "outputs": [],
   "source": [
    "from sklearn.model_selection import train_test_split as tt\n",
    "train_x,test_x,train_y,test_y=tt(x,y,stratify=y,random_state=56)\n",
    "from sklearn.metrics import f1_score as ff"
   ]
  },
  {
   "cell_type": "code",
   "execution_count": 33,
   "metadata": {},
   "outputs": [
    {
     "data": {
      "text/plain": [
       "0.7622950819672131"
      ]
     },
     "execution_count": 33,
     "metadata": {},
     "output_type": "execute_result"
    }
   ],
   "source": [
    "from sklearn.linear_model import LogisticRegression\n",
    "logreg=LogisticRegression()\n",
    "logreg.fit(train_x,train_y)\n",
    "predict=logreg.predict(train_x)\n",
    "score=ff(predict,train_y)\n",
    "score"
   ]
  },
  {
   "cell_type": "code",
   "execution_count": 32,
   "metadata": {},
   "outputs": [
    {
     "data": {
      "text/plain": [
       "0.7453416149068322"
      ]
     },
     "execution_count": 32,
     "metadata": {},
     "output_type": "execute_result"
    }
   ],
   "source": [
    "logreg.fit(test_x,test_y)\n",
    "predict1=logreg.predict(test_x)\n",
    "score=ff(predict1,test_y)\n",
    "score"
   ]
  },
  {
   "cell_type": "code",
   "execution_count": 46,
   "metadata": {},
   "outputs": [
    {
     "data": {
      "text/plain": [
       "array([[0.86802223, 0.13197777],\n",
       "       [0.8738864 , 0.1261136 ],\n",
       "       [0.13329046, 0.86670954],\n",
       "       [0.88653732, 0.11346268],\n",
       "       [0.70203686, 0.29796314],\n",
       "       [0.09532813, 0.90467187],\n",
       "       [0.38120285, 0.61879715],\n",
       "       [0.95872162, 0.04127838],\n",
       "       [0.78260767, 0.21739233],\n",
       "       [0.88967628, 0.11032372],\n",
       "       [0.9113249 , 0.0886751 ],\n",
       "       [0.07575955, 0.92424045],\n",
       "       [0.47961788, 0.52038212],\n",
       "       [0.88675192, 0.11324808],\n",
       "       [0.5824931 , 0.4175069 ],\n",
       "       [0.61568817, 0.38431183],\n",
       "       [0.78228794, 0.21771206],\n",
       "       [0.88970855, 0.11029145],\n",
       "       [0.23444679, 0.76555321],\n",
       "       [0.71113572, 0.28886428],\n",
       "       [0.57183954, 0.42816046],\n",
       "       [0.17050088, 0.82949912],\n",
       "       [0.91326815, 0.08673185],\n",
       "       [0.4185549 , 0.5814451 ],\n",
       "       [0.58424783, 0.41575217],\n",
       "       [0.7534036 , 0.2465964 ],\n",
       "       [0.52106054, 0.47893946],\n",
       "       [0.51436979, 0.48563021],\n",
       "       [0.91324292, 0.08675708],\n",
       "       [0.0664228 , 0.9335772 ],\n",
       "       [0.07201505, 0.92798495],\n",
       "       [0.08501568, 0.91498432],\n",
       "       [0.87921196, 0.12078804],\n",
       "       [0.91631608, 0.08368392],\n",
       "       [0.91811854, 0.08188146],\n",
       "       [0.89997226, 0.10002774],\n",
       "       [0.68899925, 0.31100075],\n",
       "       [0.58780281, 0.41219719],\n",
       "       [0.09782598, 0.90217402],\n",
       "       [0.95935986, 0.04064014],\n",
       "       [0.7963996 , 0.2036004 ],\n",
       "       [0.72117597, 0.27882403],\n",
       "       [0.88725469, 0.11274531],\n",
       "       [0.07255894, 0.92744106],\n",
       "       [0.19980869, 0.80019131],\n",
       "       [0.86747463, 0.13252537],\n",
       "       [0.8905196 , 0.1094804 ],\n",
       "       [0.23274475, 0.76725525],\n",
       "       [0.17731646, 0.82268354],\n",
       "       [0.80077359, 0.19922641],\n",
       "       [0.08785048, 0.91214952],\n",
       "       [0.30947375, 0.69052625],\n",
       "       [0.94573786, 0.05426214],\n",
       "       [0.32032818, 0.67967182],\n",
       "       [0.89228127, 0.10771873],\n",
       "       [0.79203983, 0.20796017],\n",
       "       [0.86802223, 0.13197777],\n",
       "       [0.75826067, 0.24173933],\n",
       "       [0.90720516, 0.09279484],\n",
       "       [0.88963674, 0.11036326],\n",
       "       [0.8418329 , 0.1581671 ],\n",
       "       [0.91324292, 0.08675708],\n",
       "       [0.78228794, 0.21771206],\n",
       "       [0.76438865, 0.23561135],\n",
       "       [0.98003457, 0.01996543],\n",
       "       [0.89854588, 0.10145412],\n",
       "       [0.88125643, 0.11874357],\n",
       "       [0.65694141, 0.34305859],\n",
       "       [0.68350913, 0.31649087],\n",
       "       [0.30947375, 0.69052625],\n",
       "       [0.42997081, 0.57002919],\n",
       "       [0.38544888, 0.61455112],\n",
       "       [0.25363189, 0.74636811],\n",
       "       [0.69634197, 0.30365803],\n",
       "       [0.82090417, 0.17909583],\n",
       "       [0.05409291, 0.94590709],\n",
       "       [0.19312421, 0.80687579],\n",
       "       [0.71513658, 0.28486342],\n",
       "       [0.15002403, 0.84997597],\n",
       "       [0.07798996, 0.92201004],\n",
       "       [0.7817688 , 0.2182312 ],\n",
       "       [0.17943663, 0.82056337],\n",
       "       [0.58448741, 0.41551259],\n",
       "       [0.07287437, 0.92712563],\n",
       "       [0.32032818, 0.67967182],\n",
       "       [0.22566339, 0.77433661],\n",
       "       [0.39859918, 0.60140082],\n",
       "       [0.82553891, 0.17446109],\n",
       "       [0.89493228, 0.10506772],\n",
       "       [0.58628297, 0.41371703],\n",
       "       [0.88685691, 0.11314309],\n",
       "       [0.31910042, 0.68089958],\n",
       "       [0.92217787, 0.07782213],\n",
       "       [0.08648494, 0.91351506],\n",
       "       [0.49078664, 0.50921336],\n",
       "       [0.3203434 , 0.6796566 ],\n",
       "       [0.92973311, 0.07026689],\n",
       "       [0.90074493, 0.09925507],\n",
       "       [0.07238385, 0.92761615],\n",
       "       [0.88970875, 0.11029125],\n",
       "       [0.75826067, 0.24173933],\n",
       "       [0.21420676, 0.78579324],\n",
       "       [0.37900527, 0.62099473],\n",
       "       [0.88685155, 0.11314845],\n",
       "       [0.69548022, 0.30451978],\n",
       "       [0.92005358, 0.07994642],\n",
       "       [0.91323689, 0.08676311],\n",
       "       [0.25351599, 0.74648401],\n",
       "       [0.41186158, 0.58813842],\n",
       "       [0.89227535, 0.10772465],\n",
       "       [0.42997081, 0.57002919],\n",
       "       [0.39851337, 0.60148663],\n",
       "       [0.75812766, 0.24187234],\n",
       "       [0.32033803, 0.67966197],\n",
       "       [0.89695398, 0.10304602],\n",
       "       [0.08235971, 0.91764029],\n",
       "       [0.68170345, 0.31829655],\n",
       "       [0.59046364, 0.40953636],\n",
       "       [0.04377675, 0.95622325],\n",
       "       [0.91392255, 0.08607745],\n",
       "       [0.55783678, 0.44216322],\n",
       "       [0.91323689, 0.08676311],\n",
       "       [0.59755842, 0.40244158],\n",
       "       [0.69023529, 0.30976471],\n",
       "       [0.5211831 , 0.4788169 ],\n",
       "       [0.72692711, 0.27307289],\n",
       "       [0.80167824, 0.19832176],\n",
       "       [0.86802364, 0.13197636],\n",
       "       [0.88630384, 0.11369616],\n",
       "       [0.21202876, 0.78797124],\n",
       "       [0.76483249, 0.23516751],\n",
       "       [0.84234118, 0.15765882],\n",
       "       [0.8418329 , 0.1581671 ],\n",
       "       [0.75826067, 0.24173933],\n",
       "       [0.07561805, 0.92438195],\n",
       "       [0.26420413, 0.73579587],\n",
       "       [0.63531231, 0.36468769],\n",
       "       [0.10871447, 0.89128553],\n",
       "       [0.87634874, 0.12365126],\n",
       "       [0.52142669, 0.47857331],\n",
       "       [0.8896017 , 0.1103983 ],\n",
       "       [0.06938244, 0.93061756],\n",
       "       [0.076427  , 0.923573  ],\n",
       "       [0.23334059, 0.76665941],\n",
       "       [0.93151098, 0.06848902],\n",
       "       [0.91324292, 0.08675708],\n",
       "       [0.91813476, 0.08186524],\n",
       "       [0.87858969, 0.12141031],\n",
       "       [0.74880269, 0.25119731],\n",
       "       [0.90273605, 0.09726395],\n",
       "       [0.90206941, 0.09793059],\n",
       "       [0.91496943, 0.08503057],\n",
       "       [0.5497731 , 0.4502269 ],\n",
       "       [0.72132471, 0.27867529],\n",
       "       [0.49068179, 0.50931821],\n",
       "       [0.1612049 , 0.8387951 ],\n",
       "       [0.91018416, 0.08981584],\n",
       "       [0.74600792, 0.25399208],\n",
       "       [0.61563132, 0.38436868],\n",
       "       [0.1594121 , 0.8405879 ],\n",
       "       [0.89474046, 0.10525954],\n",
       "       [0.60156994, 0.39843006],\n",
       "       [0.86082064, 0.13917936],\n",
       "       [0.85773275, 0.14226725],\n",
       "       [0.73207496, 0.26792504],\n",
       "       [0.86802223, 0.13197777],\n",
       "       [0.38467684, 0.61532316],\n",
       "       [0.16845007, 0.83154993],\n",
       "       [0.1425098 , 0.8574902 ],\n",
       "       [0.58676141, 0.41323859],\n",
       "       [0.90939617, 0.09060383],\n",
       "       [0.19312421, 0.80687579],\n",
       "       [0.78228794, 0.21771206],\n",
       "       [0.31160753, 0.68839247],\n",
       "       [0.12142635, 0.87857365],\n",
       "       [0.12013193, 0.87986807],\n",
       "       [0.10318632, 0.89681368],\n",
       "       [0.89825707, 0.10174293],\n",
       "       [0.62221676, 0.37778324],\n",
       "       [0.35315732, 0.64684268],\n",
       "       [0.08167066, 0.91832934],\n",
       "       [0.87869698, 0.12130302],\n",
       "       [0.77894849, 0.22105151],\n",
       "       [0.270541  , 0.729459  ],\n",
       "       [0.06356582, 0.93643418],\n",
       "       [0.9129845 , 0.0870155 ],\n",
       "       [0.89491993, 0.10508007],\n",
       "       [0.8922787 , 0.1077213 ],\n",
       "       [0.48836115, 0.51163885],\n",
       "       [0.9113249 , 0.0886751 ],\n",
       "       [0.42596254, 0.57403746],\n",
       "       [0.07271007, 0.92728993],\n",
       "       [0.58855247, 0.41144753],\n",
       "       [0.92832806, 0.07167194],\n",
       "       [0.86199629, 0.13800371],\n",
       "       [0.07040061, 0.92959939],\n",
       "       [0.69436429, 0.30563571],\n",
       "       [0.32034206, 0.67965794],\n",
       "       [0.24182001, 0.75817999],\n",
       "       [0.75432032, 0.24567968],\n",
       "       [0.91324764, 0.08675236],\n",
       "       [0.86802223, 0.13197777],\n",
       "       [0.89230734, 0.10769266],\n",
       "       [0.45148463, 0.54851537],\n",
       "       [0.91561806, 0.08438194],\n",
       "       [0.19756673, 0.80243327],\n",
       "       [0.90716692, 0.09283308],\n",
       "       [0.06193167, 0.93806833],\n",
       "       [0.5868212 , 0.4131788 ],\n",
       "       [0.88687671, 0.11312329],\n",
       "       [0.92018739, 0.07981261],\n",
       "       [0.31877352, 0.68122648],\n",
       "       [0.90245776, 0.09754224],\n",
       "       [0.37872137, 0.62127863],\n",
       "       [0.86063045, 0.13936955],\n",
       "       [0.69137765, 0.30862235],\n",
       "       [0.77304351, 0.22695649],\n",
       "       [0.90670388, 0.09329612],\n",
       "       [0.47585552, 0.52414448],\n",
       "       [0.80941918, 0.19058082],\n",
       "       [0.76707353, 0.23292647],\n",
       "       [0.91813476, 0.08186524],\n",
       "       [0.32034206, 0.67965794]])"
      ]
     },
     "execution_count": 46,
     "metadata": {},
     "output_type": "execute_result"
    }
   ],
   "source": [
    "z=logreg.predict_proba(test_x)\n",
    "z"
   ]
  },
  {
   "cell_type": "code",
   "execution_count": 47,
   "metadata": {},
   "outputs": [],
   "source": [
    "za=z[:,1]\n",
    "for i in range(len(z)):\n",
    "    if za[i]>0.55:\n",
    "        za[i]=1\n",
    "    else:\n",
    "        za[i]=0\n",
    "               \n",
    "\n",
    "        \n",
    "               "
   ]
  },
  {
   "cell_type": "code",
   "execution_count": 49,
   "metadata": {},
   "outputs": [
    {
     "data": {
      "text/plain": [
       "0.7080745341614907"
      ]
     },
     "execution_count": 49,
     "metadata": {},
     "output_type": "execute_result"
    }
   ],
   "source": [
    "score=ff(za,test_y)\n",
    "score"
   ]
  },
  {
   "cell_type": "code",
   "execution_count": 61,
   "metadata": {},
   "outputs": [
    {
     "data": {
      "text/plain": [
       "array([-2.19259829,  0.25268099,  0.96879959,  0.05563245, -1.02310216,\n",
       "        1.31855698, -1.3172271 ,  0.76129618,  0.96912816,  0.50707146,\n",
       "       -0.65721065, -0.37710323, -0.47877888, -0.72307315,  0.17856381,\n",
       "        0.51106564,  0.09282955,  0.18462437, -0.54110337, -0.02957628,\n",
       "       -0.39507385,  0.02128472,  0.22521158, -0.24516643])"
      ]
     },
     "execution_count": 61,
     "metadata": {},
     "output_type": "execute_result"
    }
   ],
   "source": [
    "q=logreg.coef_.reshape(-1)\n",
    "q"
   ]
  },
  {
   "cell_type": "code",
   "execution_count": 63,
   "metadata": {},
   "outputs": [
    {
     "data": {
      "text/plain": [
       "array([-2.19259829,  0.25268099,  0.96879959,  0.05563245, -1.02310216,\n",
       "        1.31855698, -1.3172271 ,  0.76129618,  0.96912816,  0.50707146,\n",
       "       -0.65721065, -0.37710323, -0.47877888, -0.72307315,  0.17856381,\n",
       "        0.51106564,  0.09282955,  0.18462437, -0.54110337, -0.02957628,\n",
       "       -0.39507385,  0.02128472,  0.22521158, -0.24516643])"
      ]
     },
     "execution_count": 63,
     "metadata": {},
     "output_type": "execute_result"
    }
   ],
   "source": [
    "q=logreg.coef_.reshape(-1)\n",
    "q"
   ]
  },
  {
   "cell_type": "code",
   "execution_count": 65,
   "metadata": {},
   "outputs": [
    {
     "data": {
      "text/plain": [
       "<BarContainer object of 24 artists>"
      ]
     },
     "execution_count": 65,
     "metadata": {},
     "output_type": "execute_result"
    },
    {
     "data": {
      "image/png": "[encoded data removed]",
      "text/plain": [
       "<Figure size 432x288 with 1 Axes>"
      ]
     },
     "metadata": {
      "needs_background": "light"
     },
     "output_type": "display_data"
    }
   ],
   "source": [
    "plt.bar(range(len(train_x.columns)),q)"
   ]
  },
  {
   "cell_type": "code",
   "execution_count": 67,
   "metadata": {},
   "outputs": [
    {
     "data": {
      "text/html": [
       "<div>\n",
       "<style scoped>\n",
       "    .dataframe tbody tr th:only-of-type {\n",
       "        vertical-align: middle;\n",
       "    }\n",
       "\n",
       "    .dataframe tbody tr th {\n",
       "        vertical-align: top;\n",
       "    }\n",
       "\n",
       "    .dataframe thead th {\n",
       "        text-align: right;\n",
       "    }\n",
       "</style>\n",
       "<table border=\"1\" class=\"dataframe\">\n",
       "  <thead>\n",
       "    <tr style=\"text-align: right;\">\n",
       "      <th></th>\n",
       "      <th>columns</th>\n",
       "      <th>coefficient</th>\n",
       "    </tr>\n",
       "  </thead>\n",
       "  <tbody>\n",
       "    <tr>\n",
       "      <th>0</th>\n",
       "      <td>Age</td>\n",
       "      <td>-2.192598</td>\n",
       "    </tr>\n",
       "    <tr>\n",
       "      <th>1</th>\n",
       "      <td>Fare</td>\n",
       "      <td>0.252681</td>\n",
       "    </tr>\n",
       "    <tr>\n",
       "      <th>2</th>\n",
       "      <td>Pclass_1</td>\n",
       "      <td>0.968800</td>\n",
       "    </tr>\n",
       "    <tr>\n",
       "      <th>3</th>\n",
       "      <td>Pclass_2</td>\n",
       "      <td>0.055632</td>\n",
       "    </tr>\n",
       "    <tr>\n",
       "      <th>4</th>\n",
       "      <td>Pclass_3</td>\n",
       "      <td>-1.023102</td>\n",
       "    </tr>\n",
       "    <tr>\n",
       "      <th>5</th>\n",
       "      <td>Sex_female</td>\n",
       "      <td>1.318557</td>\n",
       "    </tr>\n",
       "    <tr>\n",
       "      <th>6</th>\n",
       "      <td>Sex_male</td>\n",
       "      <td>-1.317227</td>\n",
       "    </tr>\n",
       "    <tr>\n",
       "      <th>7</th>\n",
       "      <td>SibSp_0</td>\n",
       "      <td>0.761296</td>\n",
       "    </tr>\n",
       "    <tr>\n",
       "      <th>8</th>\n",
       "      <td>SibSp_1</td>\n",
       "      <td>0.969128</td>\n",
       "    </tr>\n",
       "    <tr>\n",
       "      <th>9</th>\n",
       "      <td>SibSp_2</td>\n",
       "      <td>0.507071</td>\n",
       "    </tr>\n",
       "    <tr>\n",
       "      <th>10</th>\n",
       "      <td>SibSp_3</td>\n",
       "      <td>-0.657211</td>\n",
       "    </tr>\n",
       "    <tr>\n",
       "      <th>11</th>\n",
       "      <td>SibSp_4</td>\n",
       "      <td>-0.377103</td>\n",
       "    </tr>\n",
       "    <tr>\n",
       "      <th>12</th>\n",
       "      <td>SibSp_5</td>\n",
       "      <td>-0.478779</td>\n",
       "    </tr>\n",
       "    <tr>\n",
       "      <th>13</th>\n",
       "      <td>SibSp_8</td>\n",
       "      <td>-0.723073</td>\n",
       "    </tr>\n",
       "    <tr>\n",
       "      <th>14</th>\n",
       "      <td>Parch_0</td>\n",
       "      <td>0.178564</td>\n",
       "    </tr>\n",
       "    <tr>\n",
       "      <th>15</th>\n",
       "      <td>Parch_1</td>\n",
       "      <td>0.511066</td>\n",
       "    </tr>\n",
       "    <tr>\n",
       "      <th>16</th>\n",
       "      <td>Parch_2</td>\n",
       "      <td>0.092830</td>\n",
       "    </tr>\n",
       "    <tr>\n",
       "      <th>17</th>\n",
       "      <td>Parch_3</td>\n",
       "      <td>0.184624</td>\n",
       "    </tr>\n",
       "    <tr>\n",
       "      <th>18</th>\n",
       "      <td>Parch_4</td>\n",
       "      <td>-0.541103</td>\n",
       "    </tr>\n",
       "    <tr>\n",
       "      <th>19</th>\n",
       "      <td>Parch_5</td>\n",
       "      <td>-0.029576</td>\n",
       "    </tr>\n",
       "    <tr>\n",
       "      <th>20</th>\n",
       "      <td>Parch_6</td>\n",
       "      <td>-0.395074</td>\n",
       "    </tr>\n",
       "    <tr>\n",
       "      <th>21</th>\n",
       "      <td>Embarked_C</td>\n",
       "      <td>0.021285</td>\n",
       "    </tr>\n",
       "    <tr>\n",
       "      <th>22</th>\n",
       "      <td>Embarked_Q</td>\n",
       "      <td>0.225212</td>\n",
       "    </tr>\n",
       "    <tr>\n",
       "      <th>23</th>\n",
       "      <td>Embarked_S</td>\n",
       "      <td>-0.245166</td>\n",
       "    </tr>\n",
       "  </tbody>\n",
       "</table>\n",
       "</div>"
      ],
      "text/plain": [
       "       columns  coefficient\n",
       "0          Age    -2.192598\n",
       "1         Fare     0.252681\n",
       "2     Pclass_1     0.968800\n",
       "3     Pclass_2     0.055632\n",
       "4     Pclass_3    -1.023102\n",
       "5   Sex_female     1.318557\n",
       "6     Sex_male    -1.317227\n",
       "7      SibSp_0     0.761296\n",
       "8      SibSp_1     0.969128\n",
       "9      SibSp_2     0.507071\n",
       "10     SibSp_3    -0.657211\n",
       "11     SibSp_4    -0.377103\n",
       "12     SibSp_5    -0.478779\n",
       "13     SibSp_8    -0.723073\n",
       "14     Parch_0     0.178564\n",
       "15     Parch_1     0.511066\n",
       "16     Parch_2     0.092830\n",
       "17     Parch_3     0.184624\n",
       "18     Parch_4    -0.541103\n",
       "19     Parch_5    -0.029576\n",
       "20     Parch_6    -0.395074\n",
       "21  Embarked_C     0.021285\n",
       "22  Embarked_Q     0.225212\n",
       "23  Embarked_S    -0.245166"
      ]
     },
     "execution_count": 67,
     "metadata": {},
     "output_type": "execute_result"
    }
   ],
   "source": [
    "coef=pd.DataFrame({'columns':train_x.columns,'coefficient':logreg.coef_.reshape(-1)})\n",
    "coef"
   ]
  },
  {
   "cell_type": "code",
   "execution_count": 110,
   "metadata": {},
   "outputs": [],
   "source": [
    "coef_new=coef[coef['coefficient']>0.3]"
   ]
  },
  {
   "cell_type": "code",
   "execution_count": 111,
   "metadata": {},
   "outputs": [],
   "source": [
    "subset=df[coef_new['columns'].values]"
   ]
  },
  {
   "cell_type": "code",
   "execution_count": null,
   "metadata": {},
   "outputs": [],
   "source": []
  },
  {
   "cell_type": "code",
   "execution_count": 112,
   "metadata": {},
   "outputs": [],
   "source": [
    "from sklearn.model_selection import train_test_split as tt\n",
    "train_x,test_x,train_y,test_y=tt(subset,y,stratify=y,random_state=56)"
   ]
  },
  {
   "cell_type": "code",
   "execution_count": 113,
   "metadata": {},
   "outputs": [],
   "source": [
    "from sklearn.linear_model import LogisticRegression \n",
    "l=LogisticRegression()\n",
    "l.fit(train_x,train_y)\n",
    "predict=l.predict(train_x)\n",
    "score=ff(predict,train_y)\n",
    "score\n",
    "m=l.coef_.reshape(-1)"
   ]
  },
  {
   "cell_type": "code",
   "execution_count": 115,
   "metadata": {},
   "outputs": [
    {
     "data": {
      "text/plain": [
       "<BarContainer object of 6 artists>"
      ]
     },
     "execution_count": 115,
     "metadata": {},
     "output_type": "execute_result"
    },
    {
     "data": {
      "image/png": "[encoded data removed]",
      "text/plain": [
       "<Figure size 432x288 with 1 Axes>"
      ]
     },
     "metadata": {
      "needs_background": "light"
     },
     "output_type": "display_data"
    }
   ],
   "source": [
    "plt.bar(range(len(train_x.columns)),m)"
   ]
  },
  {
   "cell_type": "code",
   "execution_count": null,
   "metadata": {},
   "outputs": [],
   "source": [
    "df=pd.read_csv('')"
   ]
  }
 ],
 "metadata": {
  "kernelspec": {
   "display_name": "Python 3",
   "language": "python",
   "name": "python3"
  },
  "language_info": {
   "codemirror_mode": {
    "name": "ipython",
    "version": 3
   },
   "file_extension": ".py",
   "mimetype": "text/x-python",
   "name": "python",
   "nbconvert_exporter": "python",
   "pygments_lexer": "ipython3",
   "version": "3.7.1"
  }
 },
 "nbformat": 4,
 "nbformat_minor": 4
}
